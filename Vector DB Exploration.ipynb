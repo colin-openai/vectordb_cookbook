{
 "cells": [
  {
   "cell_type": "markdown",
   "id": "cb1537e6",
   "metadata": {},
   "source": [
    "# Vector Database Introduction\n",
    "\n",
    "This notebook takes you through a simple flow to download some data, embed it, and then index and search it using a selection of vector databases. This is a common requirement for customers who want to store and search our embeddings with their own data in a secure environment to support production use cases such as chatbots, topic modelling and more.\n",
    "\n",
    "The demo flow is:\n",
    "- **Setup**: Import packages and set any required variables\n",
    "- **Load data**: Load a dataset and embed it using OpenAI embeddings\n",
    "- **Pinecone**\n",
    "    - *Setup*: Here we setup the Python client for Pinecone. For more details go [here](https://docs.pinecone.io/docs/quickstart)\n",
    "    - *Index Data*: We'll create an index with namespaces for __titles__ and __content__\n",
    "    - *Search Data*: We'll test out both namespaces with search queries to confirm it works\n",
    "- **Weaviate**\n",
    "    - *Setup*: Here we setup the Python client for Weaviate. For more details go [here](https://weaviate.io/developers/weaviate/current/client-libraries/python.html)\n",
    "    - *Index Data*: We'll create an index with __title__ search vectors in it\n",
    "    - *Search Data*: We'll run a few searches to confirm it works\n",
    "\n",
    "Once you've run through this notebook you should have a basic understanding of how to setup and use vector databases, and can move on to more complex use cases making use of our embeddings"
   ]
  },
  {
   "cell_type": "markdown",
   "id": "e2b59250",
   "metadata": {},
   "source": [
    "## Setup\n",
    "\n",
    "Here we import the required libraries and set the embedding model that we'd like to use"
   ]
  },
  {
   "cell_type": "code",
   "execution_count": 25,
   "id": "5be94df6",
   "metadata": {},
   "outputs": [],
   "source": [
    "import openai\n",
    "\n",
    "import tiktoken\n",
    "from tenacity import retry, wait_random_exponential, stop_after_attempt\n",
    "from typing import List, Iterator\n",
    "import concurrent\n",
    "from tqdm import tqdm\n",
    "import pandas as pd\n",
    "from datasets import load_dataset\n",
    "import numpy as np\n",
    "import os\n",
    "\n",
    "# Pinecone's client library for Python\n",
    "import pinecone\n",
    "\n",
    "# Weaviate's client library for Python\n",
    "import weaviate\n",
    "\n",
    "# I've set this to our new embeddings model, this can be changed to the embedding model of your choice\n",
    "MODEL = \"text-embedding-ada-002\""
   ]
  },
  {
   "cell_type": "markdown",
   "id": "e5d9d2e1",
   "metadata": {},
   "source": [
    "## Load data\n",
    "\n",
    "In this section we'll source the data for this task, embed it and format it for insertion into a vector database\n",
    "\n",
    "*Thanks to Ryan Greene for the template used for the batch ingestion"
   ]
  },
  {
   "cell_type": "code",
   "execution_count": 3,
   "id": "bd99e08e",
   "metadata": {},
   "outputs": [],
   "source": [
    "@retry(wait=wait_random_exponential(min=1, max=20), stop=stop_after_attempt(6))\n",
    "\n",
    "# Simple function to take in a list of text objects and return them as a list of embeddings\n",
    "def get_embeddings(input: List):\n",
    "    response = openai.Embedding.create(\n",
    "        input=input,\n",
    "        model=MODEL,\n",
    "    )[\"data\"]\n",
    "    return [data[\"embedding\"] for data in response]\n",
    "\n",
    "# Function for batching and parallel processing the embeddings\n",
    "def embed_corpus(\n",
    "    corpus: List[str],\n",
    "    batch_size=64,\n",
    "    num_workers=8,\n",
    "    max_context_len=8191,\n",
    "):\n",
    "    def batchify(iterable, n=1):\n",
    "        l = len(iterable)\n",
    "        for ndx in range(0, l, n):\n",
    "            yield iterable[ndx : min(ndx + n, l)]\n",
    "\n",
    "    # Encode the corpus, truncating to max_context_len\n",
    "    encoding = tiktoken.get_encoding(\"cl100k_base\")\n",
    "    encoded_corpus = [\n",
    "        encoded_article[:max_context_len] for encoded_article in encoding.encode_batch(corpus)\n",
    "    ]\n",
    "\n",
    "    # Calculate corpus statistics: the number of inputs, the total number of tokens, and the estimated cost to embed\n",
    "    num_tokens = sum(len(article) for article in encoded_corpus)\n",
    "    cost_to_embed_tokens = num_tokens / 1_000 * 0.0004\n",
    "    print(\n",
    "        f\"num_articles={len(encoded_corpus)}, num_tokens={num_tokens}, est_embedding_cost={cost_to_embed_tokens:.2f} USD\"\n",
    "    )\n",
    "\n",
    "    # Embed the corpus\n",
    "    with concurrent.futures.ThreadPoolExecutor(max_workers=num_workers) as executor:\n",
    "        futures = [\n",
    "            executor.submit(get_embeddings, text_batch)\n",
    "            for text_batch in batchify(encoded_corpus, batch_size)\n",
    "        ]\n",
    "\n",
    "        with tqdm(total=len(encoded_corpus)) as pbar:\n",
    "            for _ in concurrent.futures.as_completed(futures):\n",
    "                pbar.update(batch_size)\n",
    "\n",
    "        embeddings = []\n",
    "        for future in futures:\n",
    "            data = future.result()\n",
    "            embeddings.extend(data)\n",
    "        return embeddings"
   ]
  },
  {
   "cell_type": "code",
   "execution_count": 4,
   "id": "0c1c73cb",
   "metadata": {},
   "outputs": [
    {
     "name": "stderr",
     "output_type": "stream",
     "text": [
      "Found cached dataset wikipedia (/Users/colin.jarvis/.cache/huggingface/datasets/wikipedia/20220301.simple/2.0.0/aa542ed919df55cc5d3347f42dd4521d05ca68751f50dbc32bae2a7f1e167559)\n"
     ]
    },
    {
     "data": {
      "application/vnd.jupyter.widget-view+json": {
       "model_id": "edbff2615b964463be20d0a2ac33e4ab",
       "version_major": 2,
       "version_minor": 0
      },
      "text/plain": [
       "  0%|          | 0/1 [00:00<?, ?it/s]"
      ]
     },
     "metadata": {},
     "output_type": "display_data"
    }
   ],
   "source": [
    "# We'll use the datasets library to pull the Simple Wikipedia dataset for embedding\n",
    "dataset = list(load_dataset(\"wikipedia\", \"20220301.simple\")[\"train\"])\n",
    "# Limited to 50k articles for demo purposes\n",
    "dataset = dataset[:50_000]  "
   ]
  },
  {
   "cell_type": "code",
   "execution_count": 5,
   "id": "e6ee90ce",
   "metadata": {},
   "outputs": [
    {
     "name": "stdout",
     "output_type": "stream",
     "text": [
      "num_articles=50000, num_tokens=18272526, est_embedding_cost=7.31 USD\n"
     ]
    },
    {
     "name": "stderr",
     "output_type": "stream",
     "text": [
      "50048it [03:05, 269.52it/s]                                                                                                                                                                       \n"
     ]
    },
    {
     "name": "stdout",
     "output_type": "stream",
     "text": [
      "num_articles=50000, num_tokens=202363, est_embedding_cost=0.08 USD\n"
     ]
    },
    {
     "name": "stderr",
     "output_type": "stream",
     "text": [
      "50048it [00:52, 957.36it/s]                                                                                                                                                                       "
     ]
    },
    {
     "name": "stdout",
     "output_type": "stream",
     "text": [
      "CPU times: user 42.3 s, sys: 8.47 s, total: 50.8 s\n",
      "Wall time: 4min 5s\n"
     ]
    },
    {
     "name": "stderr",
     "output_type": "stream",
     "text": [
      "\n"
     ]
    }
   ],
   "source": [
    "%%time\n",
    "# Embed the article text\n",
    "dataset_embeddings = embed_corpus([article[\"text\"] for article in dataset])\n",
    "# Embed the article titles separately\n",
    "title_embeddings = embed_corpus([article[\"title\"] for article in dataset])"
   ]
  },
  {
   "cell_type": "code",
   "execution_count": 13,
   "id": "1410daaa",
   "metadata": {},
   "outputs": [
    {
     "data": {
      "text/html": [
       "<div>\n",
       "<style scoped>\n",
       "    .dataframe tbody tr th:only-of-type {\n",
       "        vertical-align: middle;\n",
       "    }\n",
       "\n",
       "    .dataframe tbody tr th {\n",
       "        vertical-align: top;\n",
       "    }\n",
       "\n",
       "    .dataframe thead th {\n",
       "        text-align: right;\n",
       "    }\n",
       "</style>\n",
       "<table border=\"1\" class=\"dataframe\">\n",
       "  <thead>\n",
       "    <tr style=\"text-align: right;\">\n",
       "      <th></th>\n",
       "      <th>id</th>\n",
       "      <th>url</th>\n",
       "      <th>title</th>\n",
       "      <th>text</th>\n",
       "      <th>title_vector</th>\n",
       "      <th>content_vector</th>\n",
       "      <th>vector_id</th>\n",
       "    </tr>\n",
       "  </thead>\n",
       "  <tbody>\n",
       "    <tr>\n",
       "      <th>0</th>\n",
       "      <td>1</td>\n",
       "      <td>https://simple.wikipedia.org/wiki/April</td>\n",
       "      <td>April</td>\n",
       "      <td>April is the fourth month of the year in the J...</td>\n",
       "      <td>[0.00107035250402987, -0.02077057771384716, -0...</td>\n",
       "      <td>[-0.011253940872848034, -0.013491976074874401,...</td>\n",
       "      <td>0</td>\n",
       "    </tr>\n",
       "    <tr>\n",
       "      <th>1</th>\n",
       "      <td>2</td>\n",
       "      <td>https://simple.wikipedia.org/wiki/August</td>\n",
       "      <td>August</td>\n",
       "      <td>August (Aug.) is the eighth month of the year ...</td>\n",
       "      <td>[0.0010461278725415468, 0.0008924593566916883,...</td>\n",
       "      <td>[0.0003609954728744924, 0.007262262050062418, ...</td>\n",
       "      <td>1</td>\n",
       "    </tr>\n",
       "    <tr>\n",
       "      <th>2</th>\n",
       "      <td>6</td>\n",
       "      <td>https://simple.wikipedia.org/wiki/Art</td>\n",
       "      <td>Art</td>\n",
       "      <td>Art is a creative activity that expresses imag...</td>\n",
       "      <td>[0.0033627033699303865, 0.006122018210589886, ...</td>\n",
       "      <td>[-0.004959689453244209, 0.015772193670272827, ...</td>\n",
       "      <td>2</td>\n",
       "    </tr>\n",
       "    <tr>\n",
       "      <th>3</th>\n",
       "      <td>8</td>\n",
       "      <td>https://simple.wikipedia.org/wiki/A</td>\n",
       "      <td>A</td>\n",
       "      <td>A or a is the first letter of the English alph...</td>\n",
       "      <td>[0.015406121499836445, -0.013689860701560974, ...</td>\n",
       "      <td>[0.024894846603274345, -0.022186409682035446, ...</td>\n",
       "      <td>3</td>\n",
       "    </tr>\n",
       "    <tr>\n",
       "      <th>4</th>\n",
       "      <td>9</td>\n",
       "      <td>https://simple.wikipedia.org/wiki/Air</td>\n",
       "      <td>Air</td>\n",
       "      <td>Air refers to the Earth's atmosphere. Air is a...</td>\n",
       "      <td>[0.022219523787498474, -0.020443666726350784, ...</td>\n",
       "      <td>[0.021524671465158463, 0.018522677943110466, -...</td>\n",
       "      <td>4</td>\n",
       "    </tr>\n",
       "  </tbody>\n",
       "</table>\n",
       "</div>"
      ],
      "text/plain": [
       "  id                                       url   title  \\\n",
       "0  1   https://simple.wikipedia.org/wiki/April   April   \n",
       "1  2  https://simple.wikipedia.org/wiki/August  August   \n",
       "2  6     https://simple.wikipedia.org/wiki/Art     Art   \n",
       "3  8       https://simple.wikipedia.org/wiki/A       A   \n",
       "4  9     https://simple.wikipedia.org/wiki/Air     Air   \n",
       "\n",
       "                                                text  \\\n",
       "0  April is the fourth month of the year in the J...   \n",
       "1  August (Aug.) is the eighth month of the year ...   \n",
       "2  Art is a creative activity that expresses imag...   \n",
       "3  A or a is the first letter of the English alph...   \n",
       "4  Air refers to the Earth's atmosphere. Air is a...   \n",
       "\n",
       "                                        title_vector  \\\n",
       "0  [0.00107035250402987, -0.02077057771384716, -0...   \n",
       "1  [0.0010461278725415468, 0.0008924593566916883,...   \n",
       "2  [0.0033627033699303865, 0.006122018210589886, ...   \n",
       "3  [0.015406121499836445, -0.013689860701560974, ...   \n",
       "4  [0.022219523787498474, -0.020443666726350784, ...   \n",
       "\n",
       "                                      content_vector vector_id  \n",
       "0  [-0.011253940872848034, -0.013491976074874401,...         0  \n",
       "1  [0.0003609954728744924, 0.007262262050062418, ...         1  \n",
       "2  [-0.004959689453244209, 0.015772193670272827, ...         2  \n",
       "3  [0.024894846603274345, -0.022186409682035446, ...         3  \n",
       "4  [0.021524671465158463, 0.018522677943110466, -...         4  "
      ]
     },
     "execution_count": 13,
     "metadata": {},
     "output_type": "execute_result"
    }
   ],
   "source": [
    "# We then store the result in another dataframe, and prep the data for insertion into a vector DB\n",
    "article_df = pd.DataFrame(dataset)\n",
    "article_df['title_vector'] = title_embeddings\n",
    "article_df['content_vector'] = dataset_embeddings\n",
    "article_df['vector_id'] = article_df.index\n",
    "article_df['vector_id'] = article_df['vector_id'].apply(str)\n",
    "article_df.head()"
   ]
  },
  {
   "cell_type": "markdown",
   "id": "ed32fc87",
   "metadata": {},
   "source": [
    "## Pinecone\n",
    "\n",
    "Now we'll look to index these embedded documents in a vector database and search them. The first option we'll look at is **Pinecone**, a managed vector database which offers a cloud-native option.\n",
    "\n",
    "Before you proceed with this step you'll need to navigate to [Pinecone](pinecone.io), sign up and then save your API key as an environment variable titled ```PINECONE_API_KEY```.\n",
    "\n",
    "For section we will:\n",
    "- Create an index with multiple namespaces for article titles and content\n",
    "- Store our data in the index with separate searchable \"namespaces\" for article **titles** and **content**\n",
    "- Fire some similarity search queries to verify our setup is working"
   ]
  },
  {
   "cell_type": "code",
   "execution_count": 11,
   "id": "92e6152a",
   "metadata": {},
   "outputs": [],
   "source": [
    "api_key = os.getenv(\"PINECONE_API_KEY\")\n",
    "pinecone.init(api_key=api_key)"
   ]
  },
  {
   "cell_type": "markdown",
   "id": "63b28543",
   "metadata": {},
   "source": [
    "### Create Index\n",
    "\n",
    "First we need to create an index, which we'll call `wikipedia-articles`. Once we have an index, we can create multiple namespaces, which can make a single index searchable for various use cases. For more details, consult [this article](https://docs.pinecone.io/docs/namespaces#:~:text=Pinecone%20allows%20you%20to%20partition,different%20subsets%20of%20your%20index.)."
   ]
  },
  {
   "cell_type": "code",
   "execution_count": 12,
   "id": "0a71c575",
   "metadata": {},
   "outputs": [],
   "source": [
    "class BatchGenerator:\n",
    "    \"\"\" Models a simple batch generator that make chunks out of an input DataFrame. \"\"\"\n",
    "    \n",
    "    def __init__(self, batch_size: int = 10) -> None:\n",
    "        self.batch_size = batch_size\n",
    "    \n",
    "    def to_batches(self, df: pd.DataFrame) -> Iterator[pd.DataFrame]:\n",
    "        \"\"\" Makes chunks out of an input DataFrame. \"\"\"\n",
    "        splits = self.splits_num(df.shape[0])\n",
    "        if splits <= 1:\n",
    "            yield df\n",
    "        else:\n",
    "            for chunk in np.array_split(df, splits):\n",
    "                yield chunk\n",
    "    \n",
    "    def splits_num(self, elements: int) -> int:\n",
    "        \"\"\" Determines how many chunks DataFrame contians. \"\"\"\n",
    "        return round(elements / self.batch_size)\n",
    "    \n",
    "    __call__ = to_batches\n",
    "\n",
    "df_batcher = BatchGenerator(300)"
   ]
  },
  {
   "cell_type": "code",
   "execution_count": 14,
   "id": "7ea9ad46",
   "metadata": {},
   "outputs": [],
   "source": [
    "# Pick a name for the new index\n",
    "index_name = 'wikipedia-articles'"
   ]
  },
  {
   "cell_type": "code",
   "execution_count": 15,
   "id": "3ff8eca1",
   "metadata": {},
   "outputs": [
    {
     "name": "stderr",
     "output_type": "stream",
     "text": [
      "/Users/colin.jarvis/Documents/dev/vectordb_cookbook/vectordb/lib/python3.10/site-packages/pinecone/core/client/rest.py:45: DeprecationWarning: HTTPResponse.getheader() is deprecated and will be removed in urllib3 v2.1.0. Instead use HTTResponse.headers.get(name, default).\n",
      "  return self.urllib3_response.getheader(name, default)\n",
      "/var/folders/bs/rjtxlzk512103d0h0b1t18b40000gp/T/ipykernel_13361/2813989476.py:2: ResourceWarning: unclosed <ssl.SSLSocket fd=98, family=AddressFamily.AF_INET, type=SocketKind.SOCK_STREAM, proto=0, laddr=('192.168.1.74', 55526), raddr=('34.127.5.128', 443)>\n",
      "  if index_name in pinecone.list_indexes():\n",
      "ResourceWarning: Enable tracemalloc to get the object allocation traceback\n",
      "/var/folders/bs/rjtxlzk512103d0h0b1t18b40000gp/T/ipykernel_13361/2813989476.py:3: ResourceWarning: unclosed <ssl.SSLSocket fd=98, family=AddressFamily.AF_INET, type=SocketKind.SOCK_STREAM, proto=0, laddr=('192.168.1.74', 55527), raddr=('34.127.5.128', 443)>\n",
      "  pinecone.delete_index(index_name)\n",
      "ResourceWarning: Enable tracemalloc to get the object allocation traceback\n"
     ]
    }
   ],
   "source": [
    "# Check whether the index with the same name already exists\n",
    "if index_name in pinecone.list_indexes():\n",
    "    pinecone.delete_index(index_name)"
   ]
  },
  {
   "cell_type": "code",
   "execution_count": 16,
   "id": "35cb853d",
   "metadata": {},
   "outputs": [
    {
     "name": "stderr",
     "output_type": "stream",
     "text": [
      "/Users/colin.jarvis/Documents/dev/vectordb_cookbook/vectordb/lib/python3.10/site-packages/pinecone/manage.py:133: ResourceWarning: unclosed <ssl.SSLSocket fd=99, family=AddressFamily.AF_INET, type=SocketKind.SOCK_STREAM, proto=0, laddr=('192.168.1.74', 55531), raddr=('34.127.5.128', 443)>\n",
      "  status = _get_status(name)\n",
      "ResourceWarning: Enable tracemalloc to get the object allocation traceback\n",
      "/Users/colin.jarvis/Documents/dev/vectordb_cookbook/vectordb/lib/python3.10/site-packages/pinecone/manage.py:133: ResourceWarning: unclosed <ssl.SSLSocket fd=99, family=AddressFamily.AF_INET, type=SocketKind.SOCK_STREAM, proto=0, laddr=('192.168.1.74', 55533), raddr=('34.127.5.128', 443)>\n",
      "  status = _get_status(name)\n",
      "ResourceWarning: Enable tracemalloc to get the object allocation traceback\n",
      "/Users/colin.jarvis/Documents/dev/vectordb_cookbook/vectordb/lib/python3.10/site-packages/pinecone/manage.py:133: ResourceWarning: unclosed <ssl.SSLSocket fd=99, family=AddressFamily.AF_INET, type=SocketKind.SOCK_STREAM, proto=0, laddr=('192.168.1.74', 55534), raddr=('34.127.5.128', 443)>\n",
      "  status = _get_status(name)\n",
      "ResourceWarning: Enable tracemalloc to get the object allocation traceback\n",
      "/Users/colin.jarvis/Documents/dev/vectordb_cookbook/vectordb/lib/python3.10/site-packages/pinecone/manage.py:133: ResourceWarning: unclosed <ssl.SSLSocket fd=99, family=AddressFamily.AF_INET, type=SocketKind.SOCK_STREAM, proto=0, laddr=('192.168.1.74', 55535), raddr=('34.127.5.128', 443)>\n",
      "  status = _get_status(name)\n",
      "ResourceWarning: Enable tracemalloc to get the object allocation traceback\n",
      "/Users/colin.jarvis/Documents/dev/vectordb_cookbook/vectordb/lib/python3.10/site-packages/pinecone/manage.py:133: ResourceWarning: unclosed <ssl.SSLSocket fd=99, family=AddressFamily.AF_INET, type=SocketKind.SOCK_STREAM, proto=0, laddr=('192.168.1.74', 55537), raddr=('34.127.5.128', 443)>\n",
      "  status = _get_status(name)\n",
      "ResourceWarning: Enable tracemalloc to get the object allocation traceback\n",
      "/var/folders/bs/rjtxlzk512103d0h0b1t18b40000gp/T/ipykernel_13361/3257515604.py:1: ResourceWarning: unclosed <ssl.SSLSocket fd=98, family=AddressFamily.AF_INET, type=SocketKind.SOCK_STREAM, proto=0, laddr=('192.168.1.74', 55530), raddr=('34.127.5.128', 443)>\n",
      "  pinecone.create_index(name=index_name, dimension=len(article_df['content_vector'][0]))\n",
      "ResourceWarning: Enable tracemalloc to get the object allocation traceback\n"
     ]
    }
   ],
   "source": [
    "pinecone.create_index(name=index_name, dimension=len(article_df['content_vector'][0]))\n",
    "index = pinecone.Index(index_name=index_name)"
   ]
  },
  {
   "cell_type": "code",
   "execution_count": 17,
   "id": "1328ddaf",
   "metadata": {},
   "outputs": [
    {
     "name": "stderr",
     "output_type": "stream",
     "text": [
      "/var/folders/bs/rjtxlzk512103d0h0b1t18b40000gp/T/ipykernel_13361/2524688261.py:1: ResourceWarning: unclosed <ssl.SSLSocket fd=98, family=AddressFamily.AF_INET, type=SocketKind.SOCK_STREAM, proto=0, laddr=('192.168.1.74', 55539), raddr=('34.127.5.128', 443)>\n",
      "  pinecone.list_indexes()\n",
      "ResourceWarning: Enable tracemalloc to get the object allocation traceback\n"
     ]
    },
    {
     "data": {
      "text/plain": [
       "['wikipedia-articles']"
      ]
     },
     "execution_count": 17,
     "metadata": {},
     "output_type": "execute_result"
    }
   ],
   "source": [
    "# Confirm our index was created\n",
    "pinecone.list_indexes()"
   ]
  },
  {
   "cell_type": "code",
   "execution_count": 18,
   "id": "5daeba00",
   "metadata": {},
   "outputs": [
    {
     "name": "stdout",
     "output_type": "stream",
     "text": [
      "Uploading vectors to content namespace..\n"
     ]
    }
   ],
   "source": [
    "# Upsert content vectors in content namespace\n",
    "print(\"Uploading vectors to content namespace..\")\n",
    "for batch_df in df_batcher(article_df):\n",
    "    index.upsert(vectors=zip(batch_df.vector_id, batch_df.content_vector), namespace='content')"
   ]
  },
  {
   "cell_type": "code",
   "execution_count": 19,
   "id": "5fc1b083",
   "metadata": {},
   "outputs": [
    {
     "name": "stdout",
     "output_type": "stream",
     "text": [
      "Uploading vectors to title namespace..\n"
     ]
    }
   ],
   "source": [
    "# Upsert title vectors in title namespace\n",
    "print(\"Uploading vectors to title namespace..\")\n",
    "for batch_df in df_batcher(article_df):\n",
    "    index.upsert(vectors=zip(batch_df.vector_id, batch_df.title_vector), namespace='title')"
   ]
  },
  {
   "cell_type": "code",
   "execution_count": 20,
   "id": "f90c7fba",
   "metadata": {},
   "outputs": [
    {
     "data": {
      "text/plain": [
       "{'dimension': 1536,\n",
       " 'index_fullness': 0.2,\n",
       " 'namespaces': {'content': {'vector_count': 50000},\n",
       "                'title': {'vector_count': 50000}},\n",
       " 'total_vector_count': 100000}"
      ]
     },
     "execution_count": 20,
     "metadata": {},
     "output_type": "execute_result"
    }
   ],
   "source": [
    "# Check index size for each namespace\n",
    "index.describe_index_stats()"
   ]
  },
  {
   "cell_type": "markdown",
   "id": "2da40a69",
   "metadata": {},
   "source": [
    "### Search data\n",
    "\n",
    "Now we'll enter some dummy searches and check we get decent results back"
   ]
  },
  {
   "cell_type": "code",
   "execution_count": 21,
   "id": "d701b3c7",
   "metadata": {},
   "outputs": [],
   "source": [
    "# First we'll create dictionaries mapping vector IDs to their outputs so we can retrieve the text for our search results\n",
    "titles_mapped = dict(zip(article_df.vector_id,article_df.title))\n",
    "content_mapped = dict(zip(article_df.vector_id,article_df.text))"
   ]
  },
  {
   "cell_type": "code",
   "execution_count": 22,
   "id": "3c8c2aa1",
   "metadata": {},
   "outputs": [],
   "source": [
    "def query_article(query, namespace, top_k=5):\n",
    "    '''Queries an article using its title in the specified\n",
    "     namespace and prints results.'''\n",
    "\n",
    "    # Create vector embeddings based on the title column\n",
    "    embedded_query = openai.Embedding.create(\n",
    "                                                input=query,\n",
    "                                                model=MODEL,\n",
    "                                            )[\"data\"][0]['embedding']\n",
    "\n",
    "    # Query namespace passed as parameter using title vector\n",
    "    query_result = index.query(embedded_query, \n",
    "                                      namespace=namespace, \n",
    "                                      top_k=top_k)\n",
    "\n",
    "    # Print query results \n",
    "    print(f'\\nMost similar results querying {query} in \"{namespace}\" namespace:\\n')\n",
    "    if not query_result.matches:\n",
    "        print('no query result')\n",
    "    \n",
    "    matches = query_result.matches\n",
    "    ids = [res.id for res in matches]\n",
    "    scores = [res.score for res in matches]\n",
    "    df = pd.DataFrame({'id':ids, \n",
    "                       'score':scores,\n",
    "                       'title': [titles_mapped[_id] for _id in ids],\n",
    "                       'content': [content_mapped[_id] for _id in ids],\n",
    "                       })\n",
    "    \n",
    "    counter = 0\n",
    "    for k,v in df.iterrows():\n",
    "        counter += 1\n",
    "        print(f'Result {counter} with a score of {v.score} is {v.title}')\n",
    "    \n",
    "    print('\\n')\n",
    "\n",
    "    return df"
   ]
  },
  {
   "cell_type": "code",
   "execution_count": 23,
   "id": "67b3584d",
   "metadata": {},
   "outputs": [
    {
     "name": "stdout",
     "output_type": "stream",
     "text": [
      "\n",
      "Most similar results querying modern art in Europe in \"title\" namespace:\n",
      "\n",
      "Result 1 with a score of 0.890994787 is Early modern Europe\n",
      "Result 2 with a score of 0.875113845 is Museum of Modern Art\n",
      "Result 3 with a score of 0.867396712 is Western Europe\n",
      "Result 4 with a score of 0.86422205 is Renaissance art\n",
      "Result 5 with a score of 0.860472 is Pop art\n",
      "\n",
      "\n"
     ]
    },
    {
     "data": {
      "text/html": [
       "<div>\n",
       "<style scoped>\n",
       "    .dataframe tbody tr th:only-of-type {\n",
       "        vertical-align: middle;\n",
       "    }\n",
       "\n",
       "    .dataframe tbody tr th {\n",
       "        vertical-align: top;\n",
       "    }\n",
       "\n",
       "    .dataframe thead th {\n",
       "        text-align: right;\n",
       "    }\n",
       "</style>\n",
       "<table border=\"1\" class=\"dataframe\">\n",
       "  <thead>\n",
       "    <tr style=\"text-align: right;\">\n",
       "      <th></th>\n",
       "      <th>id</th>\n",
       "      <th>score</th>\n",
       "      <th>title</th>\n",
       "      <th>content</th>\n",
       "    </tr>\n",
       "  </thead>\n",
       "  <tbody>\n",
       "    <tr>\n",
       "      <th>0</th>\n",
       "      <td>34185</td>\n",
       "      <td>0.890995</td>\n",
       "      <td>Early modern Europe</td>\n",
       "      <td>The early modern period is a term used by hist...</td>\n",
       "    </tr>\n",
       "    <tr>\n",
       "      <th>1</th>\n",
       "      <td>23266</td>\n",
       "      <td>0.875114</td>\n",
       "      <td>Museum of Modern Art</td>\n",
       "      <td>The Museum of Modern Art (MoMA) is a modern ar...</td>\n",
       "    </tr>\n",
       "    <tr>\n",
       "      <th>2</th>\n",
       "      <td>12249</td>\n",
       "      <td>0.867397</td>\n",
       "      <td>Western Europe</td>\n",
       "      <td>Western Europe is a geographic region of Europ...</td>\n",
       "    </tr>\n",
       "    <tr>\n",
       "      <th>3</th>\n",
       "      <td>15436</td>\n",
       "      <td>0.864222</td>\n",
       "      <td>Renaissance art</td>\n",
       "      <td>Many of the most famous and best-loved works o...</td>\n",
       "    </tr>\n",
       "    <tr>\n",
       "      <th>4</th>\n",
       "      <td>23265</td>\n",
       "      <td>0.860472</td>\n",
       "      <td>Pop art</td>\n",
       "      <td>Pop art is a modern art movement that develope...</td>\n",
       "    </tr>\n",
       "  </tbody>\n",
       "</table>\n",
       "</div>"
      ],
      "text/plain": [
       "      id     score                 title  \\\n",
       "0  34185  0.890995   Early modern Europe   \n",
       "1  23266  0.875114  Museum of Modern Art   \n",
       "2  12249  0.867397        Western Europe   \n",
       "3  15436  0.864222       Renaissance art   \n",
       "4  23265  0.860472               Pop art   \n",
       "\n",
       "                                             content  \n",
       "0  The early modern period is a term used by hist...  \n",
       "1  The Museum of Modern Art (MoMA) is a modern ar...  \n",
       "2  Western Europe is a geographic region of Europ...  \n",
       "3  Many of the most famous and best-loved works o...  \n",
       "4  Pop art is a modern art movement that develope...  "
      ]
     },
     "execution_count": 23,
     "metadata": {},
     "output_type": "execute_result"
    }
   ],
   "source": [
    "query_output = query_article('modern art in Europe','title')\n",
    "query_output"
   ]
  },
  {
   "cell_type": "code",
   "execution_count": 24,
   "id": "1280ce33",
   "metadata": {},
   "outputs": [
    {
     "name": "stdout",
     "output_type": "stream",
     "text": [
      "\n",
      "Most similar results querying Famous battles in Scottish history in \"content\" namespace:\n",
      "\n",
      "Result 1 with a score of 0.869343638 is Battle of Bannockburn\n",
      "Result 2 with a score of 0.861471653 is Wars of Scottish Independence\n",
      "Result 3 with a score of 0.852553427 is 1651\n",
      "Result 4 with a score of 0.849640667 is First War of Scottish Independence\n",
      "Result 5 with a score of 0.846184969 is Robert I of Scotland\n",
      "\n",
      "\n"
     ]
    },
    {
     "name": "stderr",
     "output_type": "stream",
     "text": [
      "/Users/colin.jarvis/Documents/dev/vectordb_cookbook/vectordb/lib/python3.10/site-packages/pinecone/core/client/rest.py:45: DeprecationWarning: HTTPResponse.getheader() is deprecated and will be removed in urllib3 v2.1.0. Instead use HTTResponse.headers.get(name, default).\n",
      "  return self.urllib3_response.getheader(name, default)\n"
     ]
    },
    {
     "data": {
      "text/html": [
       "<div>\n",
       "<style scoped>\n",
       "    .dataframe tbody tr th:only-of-type {\n",
       "        vertical-align: middle;\n",
       "    }\n",
       "\n",
       "    .dataframe tbody tr th {\n",
       "        vertical-align: top;\n",
       "    }\n",
       "\n",
       "    .dataframe thead th {\n",
       "        text-align: right;\n",
       "    }\n",
       "</style>\n",
       "<table border=\"1\" class=\"dataframe\">\n",
       "  <thead>\n",
       "    <tr style=\"text-align: right;\">\n",
       "      <th></th>\n",
       "      <th>id</th>\n",
       "      <th>score</th>\n",
       "      <th>title</th>\n",
       "      <th>content</th>\n",
       "    </tr>\n",
       "  </thead>\n",
       "  <tbody>\n",
       "    <tr>\n",
       "      <th>0</th>\n",
       "      <td>13135</td>\n",
       "      <td>0.869344</td>\n",
       "      <td>Battle of Bannockburn</td>\n",
       "      <td>The Battle of Bannockburn, fought on 23 and 24...</td>\n",
       "    </tr>\n",
       "    <tr>\n",
       "      <th>1</th>\n",
       "      <td>13571</td>\n",
       "      <td>0.861472</td>\n",
       "      <td>Wars of Scottish Independence</td>\n",
       "      <td>The Wars of Scottish Independence were a serie...</td>\n",
       "    </tr>\n",
       "    <tr>\n",
       "      <th>2</th>\n",
       "      <td>2923</td>\n",
       "      <td>0.852553</td>\n",
       "      <td>1651</td>\n",
       "      <td>\\n\\nEvents \\n January 1 – Charles II crowned K...</td>\n",
       "    </tr>\n",
       "    <tr>\n",
       "      <th>3</th>\n",
       "      <td>13568</td>\n",
       "      <td>0.849641</td>\n",
       "      <td>First War of Scottish Independence</td>\n",
       "      <td>The First War of Scottish Independence lasted ...</td>\n",
       "    </tr>\n",
       "    <tr>\n",
       "      <th>4</th>\n",
       "      <td>11708</td>\n",
       "      <td>0.846185</td>\n",
       "      <td>Robert I of Scotland</td>\n",
       "      <td>Robert I of Scotland (11 July 1274 – 7 June 13...</td>\n",
       "    </tr>\n",
       "  </tbody>\n",
       "</table>\n",
       "</div>"
      ],
      "text/plain": [
       "      id     score                               title  \\\n",
       "0  13135  0.869344               Battle of Bannockburn   \n",
       "1  13571  0.861472       Wars of Scottish Independence   \n",
       "2   2923  0.852553                                1651   \n",
       "3  13568  0.849641  First War of Scottish Independence   \n",
       "4  11708  0.846185                Robert I of Scotland   \n",
       "\n",
       "                                             content  \n",
       "0  The Battle of Bannockburn, fought on 23 and 24...  \n",
       "1  The Wars of Scottish Independence were a serie...  \n",
       "2  \\n\\nEvents \\n January 1 – Charles II crowned K...  \n",
       "3  The First War of Scottish Independence lasted ...  \n",
       "4  Robert I of Scotland (11 July 1274 – 7 June 13...  "
      ]
     },
     "execution_count": 24,
     "metadata": {},
     "output_type": "execute_result"
    }
   ],
   "source": [
    "content_query_output = query_article(\"Famous battles in Scottish history\",'content')\n",
    "content_query_output"
   ]
  },
  {
   "cell_type": "markdown",
   "id": "d939342f",
   "metadata": {},
   "source": [
    "## Weaviate\n",
    "\n",
    "The other vector database option we'll explore here is **Weaviate**, which offers both a managed, SaaS option like Pinecone, as well as a self-hosted option. As we've already looked at a cloud vector database, we'll try the self-hosted option here.\n",
    "\n",
    "For this we will:\n",
    "- Set up a local deployment of Weaviate\n",
    "- Create indices in Weaviate\n",
    "- Store our data there\n",
    "- Fire some similarity search queries\n",
    "- Try a real use case"
   ]
  },
  {
   "cell_type": "markdown",
   "id": "bfdfe260",
   "metadata": {},
   "source": [
    "### Setup\n",
    "\n",
    "To get Weaviate running locally we used Docker and followed the instructions contained in this article: https://weaviate.io/developers/weaviate/current/installation/docker-compose.html\n",
    "\n",
    "For an example docker-compose.yaml file please refer to `./weaviate/docker-compose.yaml` in this repo\n",
    "\n",
    "You can start Weaviate up locally by navigating to this directory and running `docker-compose up -d `"
   ]
  },
  {
   "cell_type": "code",
   "execution_count": 29,
   "id": "b9ea472d",
   "metadata": {},
   "outputs": [],
   "source": [
    "client = weaviate.Client(\"http://localhost:8080/\")"
   ]
  },
  {
   "cell_type": "code",
   "execution_count": 30,
   "id": "13be220d",
   "metadata": {},
   "outputs": [
    {
     "data": {
      "text/plain": [
       "{'classes': []}"
      ]
     },
     "execution_count": 30,
     "metadata": {},
     "output_type": "execute_result"
    }
   ],
   "source": [
    "client.schema.delete_all()\n",
    "client.schema.get()"
   ]
  },
  {
   "cell_type": "code",
   "execution_count": 31,
   "id": "73d33184",
   "metadata": {},
   "outputs": [
    {
     "data": {
      "text/plain": [
       "True"
      ]
     },
     "execution_count": 31,
     "metadata": {},
     "output_type": "execute_result"
    }
   ],
   "source": [
    "client.is_ready()"
   ]
  },
  {
   "cell_type": "markdown",
   "id": "03a926b9",
   "metadata": {},
   "source": [
    "### Index data\n",
    "\n",
    "In Weaviate you create __schemas__ to capture each of the entities you will be searching. \n",
    "\n",
    "In this case we'll create a schema called **Article** with the **title** vector from above included for us to search by.\n",
    "\n",
    "The next few steps closely follow the documents Weaviate provides [here](https://weaviate.io/developers/weaviate/current/tutorials/how-to-use-weaviate-without-modules.htm)"
   ]
  },
  {
   "cell_type": "code",
   "execution_count": 32,
   "id": "e868d143",
   "metadata": {},
   "outputs": [],
   "source": [
    "class_obj = {\n",
    "    \"class\": \"Article\",\n",
    "    \"vectorizer\": \"none\", # explicitly tell Weaviate not to vectorize anything, we are providing the vectors ourselves through our BERT model\n",
    "    \"properties\": [{\n",
    "        \"name\": \"title\",\n",
    "        \"description\": \"Title of the article\",\n",
    "        \"dataType\": [\"text\"]\n",
    "    },\n",
    "        {\n",
    "        \"name\": \"content\",\n",
    "        \"description\": \"Contents of the article\",\n",
    "        \"dataType\": [\"text\"]\n",
    "    }]\n",
    "}"
   ]
  },
  {
   "cell_type": "code",
   "execution_count": 33,
   "id": "d8d430d0",
   "metadata": {},
   "outputs": [],
   "source": [
    "client.schema.create_class(class_obj)"
   ]
  },
  {
   "cell_type": "code",
   "execution_count": 34,
   "id": "856f20f9",
   "metadata": {},
   "outputs": [
    {
     "data": {
      "text/plain": [
       "{'classes': [{'class': 'Article',\n",
       "   'invertedIndexConfig': {'bm25': {'b': 0.75, 'k1': 1.2},\n",
       "    'cleanupIntervalSeconds': 60,\n",
       "    'stopwords': {'additions': None, 'preset': 'en', 'removals': None}},\n",
       "   'properties': [{'dataType': ['text'],\n",
       "     'description': 'Title of the article',\n",
       "     'name': 'title',\n",
       "     'tokenization': 'word'},\n",
       "    {'dataType': ['text'],\n",
       "     'description': 'Contents of the article',\n",
       "     'name': 'content',\n",
       "     'tokenization': 'word'}],\n",
       "   'shardingConfig': {'virtualPerPhysical': 128,\n",
       "    'desiredCount': 1,\n",
       "    'actualCount': 1,\n",
       "    'desiredVirtualCount': 128,\n",
       "    'actualVirtualCount': 128,\n",
       "    'key': '_id',\n",
       "    'strategy': 'hash',\n",
       "    'function': 'murmur3'},\n",
       "   'vectorIndexConfig': {'skip': False,\n",
       "    'cleanupIntervalSeconds': 300,\n",
       "    'maxConnections': 64,\n",
       "    'efConstruction': 128,\n",
       "    'ef': -1,\n",
       "    'dynamicEfMin': 100,\n",
       "    'dynamicEfMax': 500,\n",
       "    'dynamicEfFactor': 8,\n",
       "    'vectorCacheMaxObjects': 2000000,\n",
       "    'flatSearchCutoff': 40000,\n",
       "    'distance': 'cosine'},\n",
       "   'vectorIndexType': 'hnsw',\n",
       "   'vectorizer': 'none'}]}"
      ]
     },
     "execution_count": 34,
     "metadata": {},
     "output_type": "execute_result"
    }
   ],
   "source": [
    "client.schema.get()"
   ]
  },
  {
   "cell_type": "code",
   "execution_count": 35,
   "id": "e6f48f6f",
   "metadata": {},
   "outputs": [
    {
     "data": {
      "text/plain": [
       "<weaviate.batch.crud_batch.Batch at 0x16ad2fe20>"
      ]
     },
     "execution_count": 35,
     "metadata": {},
     "output_type": "execute_result"
    }
   ],
   "source": [
    "client.batch.configure(\n",
    "  # `batch_size` takes an `int` value to enable auto-batching\n",
    "  # (`None` is used for manual batching)\n",
    "  batch_size=100, \n",
    "  # dynamically update the `batch_size` based on import speed\n",
    "  dynamic=False,\n",
    "  # `timeout_retries` takes an `int` value to retry on time outs\n",
    "  timeout_retries=3,\n",
    "  # checks for batch-item creation errors\n",
    "  # this is the default in weaviate-client >= 3.6.0\n",
    "  callback=weaviate.util.check_batch_result,\n",
    ")\n",
    "#result = client.batch.create_objects(batch)"
   ]
  },
  {
   "cell_type": "code",
   "execution_count": 37,
   "id": "7c40c204",
   "metadata": {},
   "outputs": [],
   "source": [
    "# Make a list of tuples\n",
    "data_objects = []\n",
    "for k,v in article_df.iterrows():\n",
    "    data_objects.append((v['title'],v['text'],v['title_vector'],v['vector_id']))"
   ]
  },
  {
   "cell_type": "code",
   "execution_count": 38,
   "id": "bb5eb2c1",
   "metadata": {},
   "outputs": [],
   "source": [
    "# Template function for setting up parallel upload process\n",
    "def transcription_extractor(audio_filepath):\n",
    "    response = call_asr(openai.api_key,audio_filepath)\n",
    "    return(response)"
   ]
  },
  {
   "cell_type": "code",
   "execution_count": 39,
   "id": "786d437f",
   "metadata": {},
   "outputs": [
    {
     "name": "stdout",
     "output_type": "stream",
     "text": [
      "Uploading vectors to article_schema..\n"
     ]
    }
   ],
   "source": [
    "# Upsert into article schema\n",
    "print(\"Uploading vectors to article schema..\")\n",
    "uuids = []\n",
    "for articles in data_objects:\n",
    "    uuid = client.data_object.create(\n",
    "                              {\n",
    "                                  \"title\": articles[0],\n",
    "                                  \"content\": articles[1]\n",
    "                              },\n",
    "                              \"Article\",\n",
    "                              vector=articles[2]\n",
    "                            )\n",
    "    uuids.append(uuid)"
   ]
  },
  {
   "cell_type": "code",
   "execution_count": 40,
   "id": "3658693c",
   "metadata": {},
   "outputs": [
    {
     "data": {
      "text/plain": [
       "{'deprecations': None,\n",
       " 'objects': [{'class': 'Article',\n",
       "   'creationTimeUnix': 1672744691831,\n",
       "   'id': '00017538-c405-4249-b426-c8f51fbb3e04',\n",
       "   'lastUpdateTimeUnix': 1672744691831,\n",
       "   'properties': {'content': 'Sociedade Esportiva Palmeiras, usually called Palmeiras, is a Brazilian football team. They are from São Paulo, Brazil. The team was founded  by an Italian-speaking community on August 26, 1914, as Palestra Itália. They changed to the name used now on September 14, 1942.\\n\\nThey play in green shirts, white shorts and green socks and are one of the most popular and traditional Brazilian clubs.\\n\\nPalmeiras plays at the Palestra Itália stadium, which has seats for 32,000. But in the past, local derbies against São Paulo or Corinthians were usually played in Morumbi stadium. However, the Arena Palestra Itália is under construction with capacity for 45,000 people, expected to be finalized in 2013.\\n\\nName \\n 1914–1942 S.S. Palestra Italia\\n 1942–present S.E. Palmeiras\\n\\nMain titles \\n Copa Rio: 1951\\n Libertadores Cup: 1999 and 2020\\n Copa Mercosul: 1998\\n Campeonato Brasileiro: 1960, 1967, 1967, 1969, 1972, 1973, 1993, 1994, 2016 and 2018 – greatest champion\\n Copa do Brasil: 1998, 2012, 2015 and 2020/21\\n Copa dos Campeões: 2000\\n Campeão do Século\\n Torneio Rio-SP: 1933, 1951, 1965, 1993 and 2000\\n Campeonato Paulista: 1920, 1926 (unbeaten), 1927, 1932 (unbeaten), 1933, 1934, 1936, 1940, 1942, 1944, 1947,1950, 1959 (super champions), 1963, 1966, 1972 (unbeaten), 1974, 1976, 1993, 1994, 1996, 2008 and 2020.\\n Campeonato Paulista Extra: 1926 (unbeaten) and 1938\\n\\nRelated pages\\n List of Brazilian football teams\\n\\nOther websites \\n Palmeiras official site \\n\\nFootball clubs in São Paulo (state)\\n1914 establishments in Brazil',\n",
       "    'title': 'Sociedade Esportiva Palmeiras'},\n",
       "   'vectorWeights': None},\n",
       "  {'class': 'Article',\n",
       "   'creationTimeUnix': 1672745219916,\n",
       "   'id': '00031ba2-e702-45e5-904e-292ebaa5245f',\n",
       "   'lastUpdateTimeUnix': 1672745219916,\n",
       "   'properties': {'content': 'The pubis, or pubic bone, is one of the bones that make up the pelvis.  It is ventral and anterior. In other words, it is at the front in humans, and below in most other mammals. \\n\\nThe left and right hip bones join at the pubic symphysis. In the female, the pubic bone in front is covered by the urethral sponge.  This is a layer of fat,  forming the mons pubis or mons Venus.\\n\\nThe body of the pubis forms one-fifth of the acetabulum, the area around the hip socket. It contributes to the hip socket itself. Its inner surface is part of the wall of the lesser pelvis.\\n\\nMore images\\n\\nOther websites \\n  - \"The Male Pelvis: Hip Bone\"\\n\\nBones',\n",
       "    'title': 'Pubis (bone)'},\n",
       "   'vectorWeights': None},\n",
       "  {'class': 'Article',\n",
       "   'creationTimeUnix': 1672744876999,\n",
       "   'id': '0008d1db-5632-4e52-896f-a548eb97f497',\n",
       "   'lastUpdateTimeUnix': 1672744876999,\n",
       "   'properties': {'content': 'Pansexual people are people attracted to people regardless of their gender. This is similar to many bisexual people. The word pansexual comes from the Greek word \\'pan-\\', meaning \"all\".    \\n\\nPansexuality is one of the many sexualities from the LGBT community. Although the sexuality overlaps with bisexuality, both labels are accepted as long as the person is comfortable and respects the other equally. \\n\\nOriginally, Sigmund Freud invented the word \"pansexual\", regarding the hypothesis \"that regards all desire and interest as derived from [the] sex instinct\".\\n\\nPansexuality is often described as ‘attraction to people regardless of gender (including those who may not identify as boys or girls or as men or women, or to those who are intersex, genderfluid, etc.) pansexuality can also be described as \"gender blind\".\\n\\nSome may describe it as \"gender blind\" because those who identify as pansexual do not consider gender important when they are attracted to others. Pansexuality is considered the opposite of asexuality, as pansexuality means a person may be sexually attracted to anyone regardless of their gender identity, but asexuality means a person is sexually attracted to no one. However, pansexuals are not necessarily sexually attracted to everyone they meet, nor do they necessarily have strong sex drives.\\n\\nThe pansexual colors from the pride flag all have different meanings, pink meaning women, blue, men, and yellow for people (for an example) of a non-binary gender, such as agender, bigender or genderfluid.\\n\\nRelated pages\\n Homosexuality\\n Sexual orientation\\n\\nLGBT variations',\n",
       "    'title': 'Pansexuality'},\n",
       "   'vectorWeights': None},\n",
       "  {'class': 'Article',\n",
       "   'creationTimeUnix': 1672745199147,\n",
       "   'id': '00090e1f-ce8a-4999-b7c6-607f9c148521',\n",
       "   'lastUpdateTimeUnix': 1672745199147,\n",
       "   'properties': {'content': 'Russell is a city in Iowa in the United States.\\n\\nCities in Iowa',\n",
       "    'title': 'Russell, Iowa'},\n",
       "   'vectorWeights': None},\n",
       "  {'class': 'Article',\n",
       "   'creationTimeUnix': 1672744612139,\n",
       "   'id': '00099d9c-5151-40d3-bfd4-9e7469c65a7e',\n",
       "   'lastUpdateTimeUnix': 1672744612139,\n",
       "   'properties': {'content': '\\n\\nEvents\\n\\nUp to 1900 \\n 306 – Maxentius is proclaimed Roman Emperor. Also on this day, in 312, he is defeated in battle and drowns in the River Tiber.\\n 312 - Battle of Milvain Bridge: Constantine I defeats Maxentius to become Roman Emperor.\\n 1344 - The lower town of Smyrna (Izmir), in present-day Turkey, is captured by Crusaders.\\n 1420 - Beijing officially becomes the capital city of Ming Dynasty China.\\n 1492 – Christopher Columbus reaches Cuba.\\n 1516 - Battle of Yaunis Khan: Turkish forces under Grand Vizier Sinan Pasha defeat the Mameluks near Gaza.\\n 1531 - Battle of Amba Sel: Imam Ahmad ibn Ibrahim al-Ghazi defeats the army of Lebna Dengel, Emperor of Ethiopia. Imam Ahmad takes control of southern Ethiopia.\\n 1628 - The Siege of La Rochelle, France, is ended through forces loyal to King Louis XIII of France, following the surrender of the mainly Huguenot challenge.\\n 1636 – Harvard University is founded.\\n 1644 - The Regiment that later becomes the Royal Marines is founded by the then-Duke of York, later King James II of England/VII of Scotland.\\n 1707 - The Hoei earthquake causes over 5,000 deaths in Honshu, Shikoku and Kyushu, Japan.\\n 1746 - An earthquake of Lima, Peru, of estimated magnitude 8.4, kills around 18,000 people. The coastal city of Callao is almost completely destroyed.\\n 1775 - American Revolutionary War: A British proclamation forbids residents to leave Boston, Massachusetts.\\n 1776 - American Revolutionary War: British forces arrive at White Plains, New York and attack and capture Chatterton Hill from the Americans.\\n 1834 - Battle of Pinjarra: In present-day Western Australia, British colonists kill between 14 and 40 Aborigines.\\n 1835 - The United Tribes of New Zealand are founded, signed by 31 Maori chiefs.\\n 1836 - The Peruvian-Bolivian Confederation is formed.\\n 1848 – Spain\\'s first railway line is opened.\\n 1856 – Portugal\\'s first railway line is completed.\\n 1869 – Dmitri Mendeleev publishes the Periodic Table of the elements.\\n 1886 – The Statue of Liberty is dedicated by Grover Cleveland.\\n 1891 - An earthquake in Japan kills 7,273 people.\\n 1900 - The 1900 Summer Olympics in Paris end after five months.\\n\\n1901  2000 \\n 1904 - Panama and Uruguay start diplomatic relations.\\n 1918 – Czechoslovakia becomes independent.\\n 1918 - A new Polish government is created in Galicia.\\n 1919 - United States Congress passes the Volstead Act over President Woodrow Wilson\\'s veto, paving the way for prohibition to begin in January 1920.\\n 1922 – Fascists led by Benito Mussolini take over the Italian government.\\n 1929 - Black Monday during the Wall Street Crash.\\n 1940 - World War II: Italy invades Greece through Albania.\\n 1942 – The Alaska Highway is completed.\\n 1951 - Juan Manuel Fangio wins the Formula One championship.\\n 1954 - Ernest Hemingway wins the Nobel Prize in Literature.\\n 1954 – The Modern Kingdom of the Netherlands is re-founded as a federal monarchy.\\n 1958 – Pope John XXIII becomes Pope.\\n 1962 – The Cuban Missile Crisis ends.\\n 1964 - Vietnam War: US officials deny involvement in the bombing of North Vietnam.\\n 1965 - The Gateway Arch in Saint Louis, Missouri is completed.\\n 1974 - In Woomera, South Australia, the British rocket Black Arrow is launched, along the satellite Prospero.\\n 1981 – The band Metallica is founded.\\n 1982 – Felipe González is elected Prime Minister of Spain.\\n 1990 - The Georgian Soviet Socialist Republic holds its first election involving more than one political party.\\n 1995 – A train fire in the Baku Metro kills 289 people.\\n 1995 - Antonio Guterres becomes Prime Minister of Portugal.\\n 1998 - An Air China jetliner is hijacked by disgruntled pilot Yuan Bin and flown to Taiwan.\\n\\nFrom 2001 \\n 2005 - American politician Lewis Libby resigns over the Valerie Plame Affair.\\n 2007 – Cristina Fernández de Kirchner is elected President of Argentina.\\n 2009 - A bombing in Peshawar, Pakistan, kills 117 people and injures 213.\\n 2009 - Angela Merkel begins her second term as Chancellor of Germany.\\n 2012 - People along the east coast of the United States prepare for the arrival of Hurricane Sandy, which had already caused a lot of destruction in the Caribbean.\\n 2013 - The St Jude Storm, also known as \"Christian\", \"Carmen\" and \"Simone\", hits the southern UK, northern France, the Low Countries, Germany, Denmark and southern Sweden. At least 15 people are killed, either from falling trees or getting swept out to sea, and transport is disrupted. Denmark records its highest wind-speed during this storm.\\n 2017 - Two bomb attacks in Mogadishu, Somalia, kill at least 19 people, after a massive bomb attack in the city had killed over 350 people two weeks earlier.\\n 2018 - Far-right candidate Jair Bolsonaro is elected President of Brazil.\\n\\nBirths\\n\\nUp to 1900 \\n 1017 - Henry III, Holy Roman Emperor (d. 1056)\\n 1510 – Francisco Borgia, Spanish Jesuit (d. 1572)\\n 1536 - Felix Platter, Swiss writer and physician (d. 1614)\\n 1585 - Cornelius Jansen, Dutch bishop and theologian (d. 1638)\\n 1667 - Maria Anna of Neuburg, Queen of Spain (d. 1740)\\n 1691 – Peder Tordenskjold, Norwegian naval hero (d. 1720)\\n 1697 – Canaletto, Italian artist (d. 1768)\\n 1703 - Antoine Deparcieux, French mathematician (d. 1768)\\n 1718 - Ignacije Szentmartony, Croatian Jesuit missionary (d. 1793)\\n 1733 - Franz Ignaz von Beecke, German composer (d. 1803)\\n 1767 – Marie Sophie of Hesse-Kassel, Queen of Denmark and Norway (d. 1852)\\n 1793 – Caroline of Denmark (d. 1881)\\n 1803 - Caroline Unger, Austrian singer (d. 1877)\\n 1804 - Pierre François Verhulst, Belgian mathematician (d. 1849)\\n 1818 - Ivan Turgenev, Russian writer (d. 1883) (November 9 in Gregorian calendar)\\n 1823 - William Simpson, Scottish artist and war correspondent (d. 1899)\\n 1837 – Tokugawa Yoshinobu, Japanese shogun (d. 1913)\\n 1839 - Edward P. Allen, American captain, lawyer and politician (d. 1909)\\n 1840 - Joseph W. Fifer, 19th Governor of Illinois (d. 1938)\\n 1845 - Zymunt Florenty Wroblewski, Polish physicist (d. 1888)\\n 1846 - Auguste Escoffier, French chef (d. 1935)\\n 1854 - Jean-Marie Guyau, French philosopher and poet (d. 1888)\\n 1860 - Jigoro Kano, Japanese martial artist (d. 1938)\\n 1860 - Hugo Preuss, German politician (d. 1938)\\n 1864 - Adolfo Camarillo, American-born Mexican land owner and rancher (d. 1958)\\n 1866 - Ramón del Valle-Inclán, Galician writer (d. 1936)\\n 1875 - Gilbert H. Grosvenor, American geographer and editor (d. 1966)\\n 1879 - Channing H. Cox, 49th Governor of Massachusetts (d. 1968)\\n 1882 - Grigol Robakidze, Georgian writer (d. 1962)\\n 1885 – Per Albin Hansson, Prime Minister of Sweden (d. 1946)\\n 1886 - O. G. S. Crawford, English archaeologist (d. 1957)\\n 1889 - Juliette Béliveau, Canadian actress and singer (d. 1975)\\n 1891 - Ormer Locklear, American pilot (d. 1980)\\n 1892 - Dink Johnson, American pianist, drummer and clarinettist (d. 1954)\\n 1896 – Howard Hanson, American composer (d. 1981)\\n 1897 – Edith Head, American costume designer (d. 1981)\\n\\n1901  1950 \\n 1901 - Eileen Shanahan, Irish poet (d. 1979)\\n 1902 – Elsa Lanchester, Anglo-American actress (d. 1986)\\n 1903 – Evelyn Waugh, British writer (d. 1966)\\n 1904 - George Dangerfield, English-American historian, journalist and author (d. 1986)\\n 1907 - Tommy Hampson, British athlete (d. 1965)\\n 1908 – Arturo Frondizi, President of Argentina (d. 1995)\\n 1909 – Francis Bacon, Anglo-Irish painter (d. 1992)\\n 1912 – Richard Doll, British epidemiologist (d. 2005)\\n 1914 – Jonas Salk, American doctor, developed the Polio vaccine (d. 1995)\\n 1914 – Richard Laurence Millington Synge, British biochemist (d. 1994)\\n 1921 - Azumafuji Kin\\'ichi, Japanese sumo wrestler (d. 1973)\\n 1922 - Simon Muzenda, Zimbabwean politician (d. 2003)\\n 1925 - Ian Hamilton Findlay, Scottish poet, writer, artist and gardener (d. 2006)\\n 1927 - Roza Makagonova, Russian writer (d. 1995)\\n 1927 – Cleo Laine, British singer\\n 1928 – Muhammad Sayyid Tantawy, Egyptian Muslim cleric (d. 2010)\\n 1928 - Marcel Bozzuffi, French actor (d. 1988)\\n 1928 - Lawrie Reilly, Scottish footballer (d. 2013)\\n 1928 - William Rodgers, Baron Rodgers of Quarry Bank, British politician\\n 1929 – Joan Plowright, British actress\\n 1929 - John Hollander, American poet\\n 1929 - Virginia Held, American philosopher and author\\n 1930 – Bernie Ecclestone, British Formula 1 executive\\n 1931 - Harold Battiste, American composer, arranger, performer and teacher (d. 2015)\\n 1932 - Gerhart Baum, German politician\\n 1932 – Spyros Kyprianou, President of Cyprus (d. 2002)\\n 1933 – Garrincha, Brazilian footballer (d. 1983)\\n 1935 - Alan Clarke, British movie director (d. 1990)\\n 1936 - Horst Antes, German artist and sculptor\\n 1936 - Carl Davis, American-born British conductor and composer\\n 1936 - Charlie Daniels, American country musician\\n 1937 - Lenny Wilkins, American basketball player\\n 1938 – David Dimbleby, British broadcaster\\n 1938 - Dave Budd, American basketball player\\n 1938 - Bernadette Lafont, French actress (d. 2013)\\n 1938 - Anne Perry, British writer\\n 1939 – Jane Alexander, American actress\\n 1939 - Miroslav Cerar, Yugoslavian gymnast\\n 1941 - Hank Marvin, English guitarist\\n 1941 - Curtis Lee, American singer\\n 1942 - Kees Verkerk, Dutch speed skater\\n 1943 – Cornelia Froboess, German actress\\n 1944 – Anton Schlecker, German businessman\\n 1944 - Dennis Franz, American actor\\n 1944 - Gerry Anderson, Northern Irish broadcaster (d. 2014)\\n 1944 - Ian Marter, English actor and writer (d. 1986)\\n 1945 - Sandy Berger, American lawyer and politician (d. 2015)\\n 1945 - Wayne Fontana, American singer\\n 1946 - Wim Jansen, Dutch footballer and coach\\n 1949 – Caitlyn Jenner, American athlete and television personality\\n 1950 - Ludo Delcroix, Belgian cyclist\\n 1950 - Sihem Bensedrine, Tunisian journalist and activist\\n\\n1951  1975 \\n 1951 - Ronnie and Donnie Galyon, American conjoined twins\\n 1951 - Peter Hitchens, English journalist and author\\n 1952 - Annie Potts, American actress\\n 1954 - Christopher Benfey, American literary critic\\n 1955 - Digby Jones, English politician and businessman\\n 1955 - Yves Simoneau, Canadian movie and television director\\n 1955 – Bill Gates, American entrepreneur\\n 1956 – Mahmoud Ahmadinejad, former President of Iran\\n 1956 - Sandy Clark, Scottish footballer and coach\\n 1956 - Franky Vercateuren, Belgian footballer and coach\\n 1957 - Florence Arthaud, French sailor (d. 2015)\\n 1957 - Stephen Paul David Morris, British musician\\n 1957 - Scott Hahn, American theologian\\n 1958 - William Reid, Scottish musician\\n 1958 - Concha García Campoy, Spanish journalist (d. 2013)\\n 1958 - Ashok Chavan, Indian politician, 16th Chief Minister of Maharashtra\\n 1962 - Scotty Nguyen, Vietnamese-born American professional poker player\\n 1962 - Erik Thorstvedt, Norwegian footballer\\n 1962 – Daphne Zuniga, American actress\\n 1963 - Lauren Holly, American actress\\n 1963 - Eros Ramazzotti, Italian singer-songwriter and musician\\n 1963 - Sheryl Underwood, American comedian and talk show host\\n 1964 - Andrew Bridgen, English politician\\n 1965 - Jami Gertz, American actress\\n 1966 - Andy Richter, American actor and comedian\\n 1967 - Richard Bona, Cameroonian musician\\n 1967 - Kevin Macdonald, Scottish movie director\\n 1967 – Sophie, Hereditary Princess of Liechtenstein\\n 1967 – Julia Roberts, American actress\\n 1967 - John Romero, American video game designer\\n 1968 – Marc Lièvremont, French rugby player and coach\\n 1969 - Ben Harper, American rock musician\\n 1969 - Jeremy Davies, American actor\\n 1972 – Brad Paisley, American musician\\n 1973 – Alvin Burke, Jr., American professional wrestler known under the ring name Montel Vontavious Porter or MVP.\\n 1974 – Joaquin Phoenix, American actor\\n 1974 - Vicente Moreno, Spanish footballer and manager\\n 1974 - Dayanara Torres, Puerto Rican actress and singer\\n\\nFrom 1976 \\n 1979 – Aki Hakala, Finnish drummer\\n 1979 - Isabella Ochichi, Kenyan athlete\\n 1979 - Martin Skoula, Czech ice hockey player\\n 1979 - Jawed Karim, German-American internet entrepreneur and co-founder of YouTube\\n 1979 - Natina Reed, American actress, rapper and singer-songwriter (d. 2012)\\n 1980 – Alan Smith, English footballer\\n 1981 – Milan Baros, Czech footballer\\n 1981 - Solomon Andargachew, Ethiopian footballer\\n 1982 - Jeremy Bonderman, American baseball player\\n 1982 - Mai Kuraki, Japanese singer-songwriter, pianist and producer\\n 1982 – Matt Smith, British actor\\n 1983 - Jarrett Jack, American basketball player\\n 1984 – Obafemi Martins, Nigerian footballer\\n 1984 - Kári Kristjánsson, Icelandic handball player\\n 1984 - Bryn Evans, New Zealand rugby player\\n 1985 - Troian Bellisario, American actress\\n 1986 - Aki Toyosaki, Japanese voice actress\\n 1987 - Frank Ocean, American singer-songwriter\\n 1988 - Jamie xx, English musician, DJ and record producer\\n 1988 - Go Eun-ah, South Korean actress\\n 1989 - Camille Muffat, French swimmer (d. 2015)\\n 1991 - Lucy Bronze, English footballer\\n 1996 - Jack Eichel, American ice hockey player\\n 1996 - Jasmine Jessica Anthony, American actress\\n 1997 - Sierra McCormick, American actress\\n 1997 - Taylor Hinz, American tennis player\\n 1998 - Nolan Gould, American actor\\n 2004 - Miss Beazley, George W. Bush\\'s pet dog (d. 2014)\\n\\nDeaths\\n\\nUp to 1900 \\n 312 – Maxentius, Roman Emperor (b. 278)\\n 1225 - Jien, Japanese poet and historian (b. 1155)\\n 1312 - Elisabeth of Tirol (b. 1262)\\n 1412 – Margaret I of Denmark (b. 1353)\\n 1485 - Rodolphus Agricola, Dutch humanist (b. 1443)\\n 1568 - Ashikaga Yoshihide, Japanese shogun (b. 1539)\\n 1627 – Jahangir, Mughal Emperor (b. 1569)\\n 1639 - Stefano Landi, Italian composer (b. 1587)\\n 1646 - William Dobson, English painter (b. 1610)\\n 1661 - Agustín Moreto y Cavana, Spanish playwright (b. 1618)\\n 1703 – John Wallis, English mathematician (b. 1616)\\n 1704 – John Locke, English philosopher (b. 1632)\\n 1708 – Prince George of Denmark, Prince Consort of Great Britain (b. 1653)\\n 1740 – Empress Anna of Russia (b. 1693)\\n 1754 - Friedrich von Hagedorn, German poet  (b. 1708)\\n 1768 - Michel Blavet, French flautist and composer (b. 1700)\\n 1792 - John Smeaton, British civil engineer (b. 1724)\\n 1818 – Abigail Adams, First Lady of the United States (b. 1744)\\n 1857 - Louis-Eugène Cavaignac, 26th Prime Minister of France (b. 1802)\\n 1899 - Ottmar Mergenthaler, German-American inventor (b. 1854)\\n 1900 – Max Müller, German philologist (b. 1823)\\n\\n1901  2000 \\n 1916 - Oswald Boelcke, German pilot (b. 1891)\\n 1917 - Dimitrios Votsis, Greek politician (b. 1841)\\n 1918 – Ulisse Dini, Italian mathematician (b. 1845)\\n 1929 – Bernhard von Bülow, Chancellor of Germany (b. 1849)\\n 1939 - Alice Brady, American actress (b. 1892)\\n 1952 – Billy Hughes, 7th Prime Minister of Australia (b. 1862)\\n 1959 – Camilo Cienfuegos, Cuban revolutionary (b. 1932)\\n 1969 - Constance Dowling, American actress (b. 1920)\\n 1973 - Taha Hussein, Egyptian historian, author and academic (b. 1889)\\n 1973 - Sergio Topano, Italian actor, director and playwright (b. 1883)\\n 1975 - Georges Carpentier, French boxer (b. 1894)\\n 1978 - Rukmani Devi, Sri Lankan actress and singer (b. 1923)\\n 1983 - Otto Messmer, American animator (b. 1892)\\n 1984 - Wells Kelly, American singer-songwriter and musician (b. 1949)\\n 1986 - Ian Marter, English actor and writer (b. 1944)\\n 1989 - Kateb Yacine, Algerian writer (b. 1929)\\n 1998 – Ted Hughes, English poet (b. 1930)\\n\\nFrom 2001 \\n 2005 – Richard Smalley, American chemist (b. 1943)\\n 2005 - Tony Jackson, American basketball player (b. 1942)\\n 2005 - Fernando Quejas, Cape Verdean singer and musician (b. 1922)\\n 2006 – Red Auerbach, American basketball coach and executive (b. 1917)\\n 2007 - Evelyn Hamann, German actress (b. 1942)\\n 2007 – Porter Wagoner, American country singer (b. 1927)\\n 2009 – Taylor Mitchell, Canadian singer-songwriter (b. 1990)\\n 2010 – Jonathan Motzfeldt, 1st Prime Minister of Greenland (b. 1938)\\n 2011 - Jiri Grusa, Czech writer and diplomat (b. 1938)\\n 2012 - Terry Callier, American guitarist and singer-songwriter (b. 1945)\\n 2013 - Tadeusz Mazowiecki, former Prime Minister of Poland (b. 1927)\\n 2014 - Hans Schneider, Austrian-American mathematician (b. 1927)\\n 2014 - Michael Sata, 5th President of Zambia (b. 1937)\\n 2014 - Romualdas Granauskas, Lithuanian writer (b. 1939)\\n 2014 - Koichiro Kimura, Japanese writer and martial artist (b. 1940)\\n 2014 - Galway Kinnell, American poet (b. 1927)\\n 2017 - Gert Timmerman, Dutch singer (b. 1935)\\n 2017 - Josaphat-Robert Large, Haitian-American poet, novelist and art critic (b. 1942)\\n 2018 - Luis Miguel Enciso Recio, Spanish historian and politician (b. 1930)\\n 2018 - Richard Gill, Australian conductor and activist (b. 1941)\\n 2018 - Colin Sylvia, Australian football player (b. 1985)\\n 2018 - I. John Hesselink, American theologian (b. 1928)\\n 2019 - Al Bianchi, American baseball player and coach (b. 1932)\\n 2019 - Kay Hagan, American politician (b. 1953)\\n 2019 - Zoltán Jeney, Hungarian composer (b. 1943)\\n\\nObservances \\n Czech Republic and Slovakia: National holiday marking the independence of Czechoslovakia in 1918\\n Ochi Day in Greece, Cyprus and Greek communities\\n\\nDays of the year',\n",
       "    'title': 'October 28'},\n",
       "   'vectorWeights': None},\n",
       "  {'class': 'Article',\n",
       "   'creationTimeUnix': 1672745255816,\n",
       "   'id': '000bb915-9156-4858-9af7-143dd0e239f0',\n",
       "   'lastUpdateTimeUnix': 1672745255816,\n",
       "   'properties': {'content': 'Glenn County is a county found in the Central Valley, in north California, which is a state in the United States.\\n\\nAs of 2000, the county had a population of 26,453.  The county seat is the city of Willows.\\n\\n \\n1891 establishments in California',\n",
       "    'title': 'Glenn County, California'},\n",
       "   'vectorWeights': None},\n",
       "  {'class': 'Article',\n",
       "   'creationTimeUnix': 1672744626438,\n",
       "   'id': '000dc76b-0399-4942-b196-dad806ee0315',\n",
       "   'lastUpdateTimeUnix': 1672744626438,\n",
       "   'properties': {'content': 'Station has many meanings, so it is often used with other words to tell people which one is meant:\\n\\nIn transport:\\nRailway station, a place where trains stop to load or unload passengers or cargo\\nBus station, a place where buses stop to load or unload passengers and things\\nGas station, a place where gas (petrol) can be bought (also called \"filling station\" or sometimes \"service station\")\\n\\nIn communications:\\nTelevision station, a business that transmits television signals\\nRadio station, a business that transmits radio signals\\n\\nOther buildings:\\nPolice station\\nFire station\\nPower station\\nSpace station\\n\\nOther uses:\\nStation (agriculture)\\nWeather station\\n\\nBasic English 850 words',\n",
       "    'title': 'Station'},\n",
       "   'vectorWeights': None},\n",
       "  {'class': 'Article',\n",
       "   'creationTimeUnix': 1672744704798,\n",
       "   'id': '000e168a-e99f-4bd5-ac22-72e7bc991ad3',\n",
       "   'lastUpdateTimeUnix': 1672744704798,\n",
       "   'properties': {'content': 'Cuneo is an Italian city in Piemonte. It has 54,992 people.\\n\\nCities in Piedmont\\nCapital cities in Italy',\n",
       "    'title': 'Cuneo'},\n",
       "   'vectorWeights': None},\n",
       "  {'class': 'Article',\n",
       "   'creationTimeUnix': 1672744589596,\n",
       "   'id': '00108d1e-5436-47bf-84f2-11fa4e08dde9',\n",
       "   'lastUpdateTimeUnix': 1672744589596,\n",
       "   'properties': {'content': 'The London Borough of Wandsworth is a London Borough. It is in south west London.\\n\\nPlaces\\nWandsworth\\nBattersea\\nTooting',\n",
       "    'title': 'London Borough of Wandsworth'},\n",
       "   'vectorWeights': None},\n",
       "  {'class': 'Article',\n",
       "   'creationTimeUnix': 1672745053799,\n",
       "   'id': '0011e2bf-1bd3-4d9f-b45b-0048d2a5dd86',\n",
       "   'lastUpdateTimeUnix': 1672745053799,\n",
       "   'properties': {'content': 'Surrey is a city in British Columbia, Canada. It is a part of Metro Vancouver, which is  next to the cities of; Coquitlam, Port Coquitlam  to the north, Pitt Meadows to the north east, Langley to the east, New Westminster to the north west, White Rock to the south, and Delta to the west. Surrey is also next to Blaine, Washington, USA to the south.\\n\\nSurrey has six town centres: Whalley, Newton, Guildford, Fleetwood, Cloverdale, and South Surrey.\\n\\nThe mayor of Surrey is Linda Hepner.\\n\\nAbout Surrey\\nSurrey was made as a municipality in 1879, in the early 90s, more people started moving to Surrey and made it their home. In 1993, Surrey turned into a city.\\n\\nIn 1937, the Pattullo Bridge was made, and connected Surrey to New Westminster. The bridge also caused more people to move to Surrey. In 1964, the Port Mann bridge was built to connect from Surrey to Coquitlam. The Port Mann bridge is a part of the famous Trans Canada Highway. Six highways run through Surrey, Highway 10, Highway 99, Highway 99A, Highway 15, Highway 1, and Highway 1A. Surrey is the location of the peace arch, which is a monument at the Canada-US border. Surrey is also the second biggest city in British Columbia by population and it is expected to beat Vancouver\\'s population as the biggest city in the province by 2020. Surrey is one of the fastest growing cities in Canada and the fastest growing city in Metro Vancouver.\\n\\nThe population in 2016 was 517,887.\\n\\nTown Centres\\nSurrey has six town centres:\\n\\nWhalley - the city centre of Surrey is in Whalley. Whalley is the only town centre in Surrey to have SkyTrain services. The four SkyTrain stations in Whalley are; Scott Road, Gateway, Surrey Central, and King George. The SFU Surrey campus is also in Whalley. There are 78,500 people live in Whalley. There is a recreation centre,  second biggest library of BC and a bus stop.\\n\\nNewton - most people who live in Surrey live in Newton. The Surrey city hall and courthouse are in Newton. Newton is bordered with Delta to the west by Scott Road (120th Street). A Surrey public library and a Surrey RCMP station are in Newton. 91,595 people live in Newton.\\n\\nGuildford - a town centre in north east Surrey. The world\\'s tallest flagpole is in Guildford. The Guildford Town Centre Mall is in Guildford. 49,300 people live in Guildford. Guildford is connected by rail service to New Westminister.Businesses located in this are have good access.now more population in guild ford\\n\\nFleetwood - a town centre in East Surrey. Fleetwood was named after a World War I soldier named Thomas Fleetwood. A Surrey public library and Community Centre are in Fleetwood. 43,300 people live in Fleetwood.\\n\\nCloverdale - most famous for being the filming scene for many movies and TV shows, such as Hot Rod and Smallville. The City of Surrey Museum is in Cloverdale, as well as the Stetion Bowl Stadium, which is located in the Cloverdale Fairgrounds. Cloverdale has a rodeo and it is the second biggest rodeo in Canada after the Calgary Stampede. Cloverdale is bordered with Langley to the east by 196th Street.\\n\\nSouth Surrey - is bordered with the city of White Rock to the south west and with Blaine, WA, USA to the south. The Douglas Peace Arch border crossing is in South Surrey as well as the Peach Arch monument, which is on the border. South Surrey also has a beach called Crescent Beach and an Indian reserve. The Semiahmoo Shopping Centre is also in South Surrey. 53,980 people live in South Surrey.\\n\\nIn 2020 a headline in the DailyHive said that \"Surrey is on pace to become Metro Vancouver\\'s new downtown\"\\n\\nReferences \\n\\nCities in British Columbia',\n",
       "    'title': 'Surrey, British Columbia'},\n",
       "   'vectorWeights': None},\n",
       "  {'class': 'Article',\n",
       "   'creationTimeUnix': 1672744775726,\n",
       "   'id': '00136564-ec6a-4a60-b03e-38fd5b89656c',\n",
       "   'lastUpdateTimeUnix': 1672744775726,\n",
       "   'properties': {'content': \"Chow Yun-fat SBS (born May 18, 1955), formerly called Donald Chow, is a Hong Kong actor and singer. He often worked with John Woo in the action movies A Better Tomorrow, The Killer, and Hard Boiled. He also acted in Pirates of the Caribbean: At World's End, and has acted in many drama movies.\\n\\nCareer\\nHis parents were farmers and poor. He grew up on an island without electricity. While in college, Chow began training to become an actor with TVB. He first appeared on the 1980 TV series The Bund. Chow appeared in many TV series, but he wanted to act in movies. He acted in a few movies, but they were very bad. He finally became sucessful when he teamed with John Woo in A Better Tomorrow.\\n\\nReferences\\n\\nOther websites\\n\\n1955 births\\nLiving people\\nActors from Hong Kong\",\n",
       "    'title': 'Chow Yun-Fat'},\n",
       "   'vectorWeights': None},\n",
       "  {'class': 'Article',\n",
       "   'creationTimeUnix': 1672744899845,\n",
       "   'id': '001454bf-5cd5-4ec3-8b77-c4363d735ce9',\n",
       "   'lastUpdateTimeUnix': 1672744899845,\n",
       "   'properties': {'content': 'Aedermannsdorf is a municipality of the district Thal in the canton of Solothurn in Switzerland.\\n\\nReferences\\n\\nOther websites\\n Official website \\n\\nMunicipalities of the canton of Solothurn',\n",
       "    'title': 'Aedermannsdorf'},\n",
       "   'vectorWeights': None},\n",
       "  {'class': 'Article',\n",
       "   'creationTimeUnix': 1672744973734,\n",
       "   'id': '0014925e-b588-44b2-8cbc-4240b2b1fa9d',\n",
       "   'lastUpdateTimeUnix': 1672744973734,\n",
       "   'properties': {'content': ', (born August 3, 1970) is a video game designer who worked at HAL Laboratory from 1991 to 2003. His single game for Nintendo 3DS, Kid Icarus: Uprising was released in 2012. Sakurai is the creator of game franchises, Kirby and Super Smash Bros. He founded Sora Ltd in 2005.\\n\\nReferences\\n\\n1970 births\\n \\nLiving people\\nPeople from Tokyo\\nJapanese video game designers\\nNintendo people',\n",
       "    'title': 'Masahiro Sakurai'},\n",
       "   'vectorWeights': None},\n",
       "  {'class': 'Article',\n",
       "   'creationTimeUnix': 1672744755170,\n",
       "   'id': '00154833-898c-47b3-add7-092173982a52',\n",
       "   'lastUpdateTimeUnix': 1672744755170,\n",
       "   'properties': {'content': \"A consul could mean one of the following:\\n Roman consul, the highest office of the Roman Republic: two consuls were elected each year.\\n A modern post in diplomacy, an official who lives in another country to help his own country's citizens.\",\n",
       "    'title': 'Consul'},\n",
       "   'vectorWeights': None},\n",
       "  {'class': 'Article',\n",
       "   'creationTimeUnix': 1672744630056,\n",
       "   'id': '00155395-8b9d-4aa2-91d2-eb69e7d2cb09',\n",
       "   'lastUpdateTimeUnix': 1672744630056,\n",
       "   'properties': {'content': 'Toad the Wet Sprocket is an American alternative rock band from California. They formed in 1986, while they were in high school. Their name comes from a monologue (one person doing all the talking) performed by Eric Idle, called \"Rock Notes\" on the 1980 album, Monty Python\\'s Contractual Obligation Album.\\n\\nAmerican rock bands\\nMusical groups from California\\nSanta Barbara, California\\nMusical groups established in 1986\\n1986 establishments in the United States\\n1980s establishments in California\\nMusical groups disestablished in 1998\\n1998 disestablishments in the United States\\n1990s disestablishments in California\\nMusical groups established in 2002\\n2002 establishments in the United States\\n2000s establishments in California',\n",
       "    'title': 'Toad the Wet Sprocket'},\n",
       "   'vectorWeights': None},\n",
       "  {'class': 'Article',\n",
       "   'creationTimeUnix': 1672745151435,\n",
       "   'id': '00174ae7-805b-4bf7-ba64-7ae4c662878d',\n",
       "   'lastUpdateTimeUnix': 1672745151435,\n",
       "   'properties': {'content': 'Oxford is a city in Idaho in the United States.\\n\\nCities in Idaho',\n",
       "    'title': 'Oxford, Idaho'},\n",
       "   'vectorWeights': None},\n",
       "  {'class': 'Article',\n",
       "   'creationTimeUnix': 1672744688961,\n",
       "   'id': '001b77e8-5113-4bdd-8a71-9497d66300f7',\n",
       "   'lastUpdateTimeUnix': 1672744688961,\n",
       "   'properties': {'content': \"Sardinia (, Sardinian: Sardigna) is the second largest island in the Mediterranean Sea. It is an autonomous region of Italy. It was formerly the Kingdom of Sardinia.\\n\\nThe official name is, in Italian, Regione Autonoma della Sardegna.The capital and largest city is Cagliari.\\n\\nGeography\\nThe island of Sardinia has an area of  and, after Sicily, is the second largest island in the Mediterranean Sea. It is  long from North to South, and  wide from West to East. It lies between 38° 51' and 41° 15' latitude north and 8° 8' and 9° 50' longitude east.\\n\\nThe island is on the western Mediterranean Sea, between the island of Corsica to the north and Tunisia to the south. The Tyrrhenian Sea part of the Mediterranean is directly east of Sardinia, between the Sardinian east coast and the west coast of the Italian mainland peninsula.\\n\\nThe Strait of Bonifacio (, , Gallurese: Bocchi di Bunifaciu, ) is the strait between Corsica and Sardinia, named after the Corsican town Bonifacio. It is   wide  and divides the Tyrrhenian Sea from the western Mediterranean Sea.\\n\\nRivers\\nSardinia has few major rivers, the largest being the Tirso,  long, which flows into the western Mediterranean Sea, the Coghinas () and the Flumendosa ().\\n\\nMountains and valleys\\nThe highest peak is Punta La Marmora (), part of the Gennargentu group of mountains in the centre of the island. Other mountain chains are Monte Limbara () in the northeast, the Chain of Marghine and Goceano () running crosswise for  towards the north, the Monte Albo (), the Sette Fratelli massif in the southeast, and the Sulcis Mountains and the Monte Linas ().\\n\\nThe mountain chains of the island are separated by wide valleys; the main ones are Campidano in the southwest between Oristano and Cagliari, and the Nurra in the northwest.\\n\\nIslands\\nThere are many small islands around the main island of Sardinia. Some of them are:\\n Maddalena Archipelago, to the northeast\\n Asinara, to the northwest\\n San Pietro Island, to the southwest\\n Sant'Antioco, to the southwest\\n\\nAdministrative divisions\\nSardinia is divided in eight provinces:\\n\\nReferences\\n\\nOther websites\\n\\n Official Sardinia Tourism website in English\\n  Official regional website in Italian\\n  Sardegna DigitalLibrary - La memoria digitale della Sardegna\\n\\nAutonomous areas\\nIslands of Italy\",\n",
       "    'title': 'Sardinia'},\n",
       "   'vectorWeights': None},\n",
       "  {'class': 'Article',\n",
       "   'creationTimeUnix': 1672744591239,\n",
       "   'id': '001c25ca-f803-4192-ba3d-cee96b4cc30f',\n",
       "   'lastUpdateTimeUnix': 1672744591239,\n",
       "   'properties': {'content': 'Lithium (from Greek lithos \\'stone\\') is a soft, silver-white metal with symbol\\xa0Li. It is the third chemical element in the periodic table. This means that it has 3 protons in its nucleus and 3 electrons around it. Its atomic number is 3. Its mass number is 6.94. It has two common isotopes, 6Li and 7Li. 7Li is more common. 92.5% of lithium is 7Li. Lithium is a soft silvery metal that is very reactive. It is used in lithium batteries and certain medicines.\\n\\nProperties\\n\\nPhysical properties\\nLithium is one of the alkali metals. Lithium is a silvery solid metal (when freshly cut). It is very soft. Thus it can be cut easily with a knife. It melts at a low temperature. It is very light, similar to wood. It is the least dense metal and the least dense element in a solid or liquid state. It can hold more heat than any other solid element. It conducts heat and electricity easily.\\n\\nChemical properties\\nIt will react with water, giving off hydrogen to form a basic solution (lithium hydroxide). Because of this, lithium must be stored in petroleum jelly. Sodium and potassium can be stored in oil but lithium cannot because it is so light. It will just float on the oil and not be protected by it.\\n\\nLithium also reacts with halogens. It can react with nitrogen gas to make lithium nitride. It reacts with air to make a black tarnish and then a white powder of lithium hydroxide and lithium carbonate.\\n\\nChemical compounds\\n\\nLithium forms chemical compounds with only one oxidation state: +1. Most of them are white and unreactive. They make a bright red color when heated in a flame. They are a little toxic. Most of them dissolve in water. Lithium carbonate is less soluble in water than the other alkali metal carbonates like sodium carbonate.\\n\\nLithium carbonate, used in medicine\\nLithium chloride, colorless crystalline solid, red flame when heated\\nLithium hydroxide, strong base, used to remove carbon dioxide in spaceships\\nLithium nitrate, oxidizing agent\\nLithium nitride, strong base\\nLithium oxide, dissolves in water to make lithium hydroxide\\nLithium peroxide, reacts with water to make oxygen\\nLiHe\\nLithium 12-hydroxystearate\\nLithium acetate\\nLithium aluminate\\nLithium aluminium hydride\\nLithium amide\\nLithium aspartate\\nLithium azide\\nLithium beryllide\\nLithium bis(trifluoromethanesulfonyl)imide\\nLithium bis(trimethylsilyl)amide\\nLithium borate\\nLithium bromide\\nLithium carbide\\nLithium chlorate\\nLithium citrate\\nLithium cobalt oxide\\nLithium cyanide\\nLithium diisopropylamide\\nLithium disilicate\\n\\nOccurrence\\nIt does not occur as an element in nature. It only is in the form of lithium compounds. The ocean has a large amount of lithium in it. Certain granites have large amounts of lithium. Most living things have lithium in them. There are some places where much lithium is in the salt. Some silicates have lithium in them.\\n\\nHistory \\nLithium (Greek lithos, meaning \"stone\") was discovered by Johann Arfvedson in 1817. In 1818, Christian Gmelin observed that lithium salts give a bright red color in flame. W.T. Brande and Sir Humphrey Davy later used electrolysis on lithium oxide to isolate the element. Lithium was first used in greases. Then nuclear weapons became a big use of lithium. Lithium was also used to make glass melt easier and make aluminium oxide melt easier in making aluminium. Now lithium is used mainly in batteries.\\n\\nIt was apparently given the name \"lithium\" because it was discovered from a mineral, while other common alkali metals were first discovered in plant tissue.\\n\\nPreparation\\nIt is made by getting lithium chloride from pools and springs. The lithium chloride is melted and electrolyzed. This makes liquid lithium and chlorine.\\n\\nUses\\n\\nAs an element\\nIts main use is in batteries. Lithium is used as an anode in the lithium battery. It has more power than batteries with zinc, like alkaline cells. Lithium ion batteries also have lithium in them, though not as an element. It is also used in heat transfer alloys. Lithium is used to make organolithium compounds. They are used for very strong bases.\\n\\nIt is used to make special glasses and ceramics, including the Mount Palomar telescope\\'s 200 inch mirror. Lithium is the lightest known metal and can be alloyed with aluminium, copper, manganese, and cadmium to make strong, lightweight metals for aircraft.\\n\\nIn chemical compounds\\nLithium compounds are used in some drugs known as mood stabilizers. Lithium niobate is used in radio transmitters in cell phones. Some lithium compounds are also used in ceramics. Lithium chloride can absorb water from other things. Some lithium compounds are used to make soap and grease. Lithium carbonate is used as a drug to treat manic depression disorder. Lithium carbonate is used for the treatment of bipolar disease and other mental illness conditions.\\n\\nOrganic chemistry\\nOrganolithium compounds are used to make polymers and fine chemicals. Many lithium compounds are used as reagents to make organic compounds. Some lithium compounds like lithium aluminium hydride, lithium triethylborohydride, n-butyllithium and tert-butyllithium are commonly used as very strong bases called superbases.\\n\\nOther uses\\n\\nLithium compounds are used as pyrotechnic colorants and oxidizers in red fireworks and flares. Lithium chloride and lithium bromide are used as desiccants for gas streams. Lithium hydroxide and lithium peroxide are used to remove carbon dioxide and purify the air in spacecrafts and submarines. Lithium hydroxide, lithium peroxide and lithium perchlorate are used in oxygen candles that supply submarines with oxygen.\\n\\nLithium aluminum hydride can also be used as a solid fuel by itself. Lithium hydride that contains lithium-6 is used in thermonuclear weapons.\\n\\nSafety\\nLithium reacts with water, making irritating smoke and heat. It is not as dangerous as the other alkali metals. Lithium hydroxide is very corrosive.\\n\\nIsotopes \\nThere  are 5 isotopes of Lithium having respectively 2, 3, 4, 5 and 6 neutrons in the nucleus. The most common isotope in nature is 3Li7 which makes up 92.58% of the total. The second isotope which is widely available is 3Li6 which makes up 7.42% of the total. The other 3 isotopes exist in very small quantities. The atomic mass of Lithium is 6.939.\\n\\nRelated pages\\nAlkaline earth metal\\nBeryllium\\n\\nReferences\\n\\nAlkali metals',\n",
       "    'title': 'Lithium'},\n",
       "   'vectorWeights': None},\n",
       "  {'class': 'Article',\n",
       "   'creationTimeUnix': 1672744834156,\n",
       "   'id': '001c79d0-1d76-49e1-ba05-d877e6e4d160',\n",
       "   'lastUpdateTimeUnix': 1672744834156,\n",
       "   'properties': {'content': 'Low kick is a leg technique used in certain boxes pieds-poings (Burmese boxing, kickboxing and Thai boxing Muay Thai) and certain martial arts. It consists in striking a blow with shinbone or a kick in the lower limb of the opponent (thigh or leg). According to the official rules concerning sport, it can be carried to the outer and to the inner part of the lower limb. \\n\\nIn fights in full contact (so-called K.O. system), these kicks are allowed in order to make an opponent not stable, indeed to have an advantage. \\n\\nIn the matter of hits in the legs, several kicks exist: circular or roundhouse kick, semicircular kick, balanced kicks (stick kick, crescent kick, axe kick...), kicks along the straight line (front kick and side kick), hooked-type kicks (hook kick), kicks that go down (hammer kick), etc. \\n\\nIn American or Japanese kickboxing, this type of kick can be only circular or semicircular according to the official rules. \\n\\nMartial art techniques',\n",
       "    'title': 'Low kick'},\n",
       "   'vectorWeights': None},\n",
       "  {'class': 'Article',\n",
       "   'creationTimeUnix': 1672744585057,\n",
       "   'id': '001d97b4-8158-4574-a25f-6b1f5fd3b3d6',\n",
       "   'lastUpdateTimeUnix': 1672744585057,\n",
       "   'properties': {'content': 'Las Vegas is a city in the American state of Nevada. There were 640,932 people living in the city in 2015, and more than 2,000,000 people living in the metropolitan area. It is the largest city in Nevada. Las Vegas is also the county seat of Clark County. Carolyn Goodman became the mayor in 2011.\\n\\nPolitics \\nLas Vegas leans to the left. Three of the four congressional districts in Nevada include parts of Las Vegas, and all three congresspeople representing those districts are Democrats from Las Vegas.\\n\\nHistory \\nNative Americans were the first to reside in the area, specifically the Paiute tribe. It was first called Las Vegas (which means The Meadows in the Spanish language) by the Spanish. The city is known for its dry weather, as is the rest of southern Nevada. It is surrounded by desert. \\n\\nThe US Army built Fort Baker there in 1864. Las Vegas has natural springs, where people used to stop for water when they were going to Los Angeles or other places in California.\\n\\nIn 1905, 110 acres owned by William A. Clark, on which he built a railroad to Southern California were auctioned and Las Vegas was founded as a railroad town. Las Vegas officially became a city in 1911.\\n\\nReferences \\n\\n \\nCounty seats in Nevada\\n1905 establishments in the United States\\n20th-century establishments in Nevada',\n",
       "    'title': 'Las Vegas'},\n",
       "   'vectorWeights': None}],\n",
       " 'totalResults': 20}"
      ]
     },
     "execution_count": 40,
     "metadata": {},
     "output_type": "execute_result"
    }
   ],
   "source": [
    "client.data_object.get()"
   ]
  },
  {
   "cell_type": "markdown",
   "id": "46050ca9",
   "metadata": {},
   "source": [
    "### Search Data"
   ]
  },
  {
   "cell_type": "code",
   "execution_count": 41,
   "id": "5acd5437",
   "metadata": {},
   "outputs": [],
   "source": [
    "def query_weaviate(query, schema, top_k=20):\n",
    "    '''Queries an article using its title in the specified\n",
    "     namespace and prints results.'''\n",
    "\n",
    "    # Create vector embeddings based on the title column\n",
    "    embedded_query = openai.Embedding.create(\n",
    "                                                input=query,\n",
    "                                                model=MODEL,\n",
    "                                            )[\"data\"][0]['embedding']\n",
    "    \n",
    "    near_vector = {\"vector\": embedded_query}\n",
    "\n",
    "    # Query namespace passed as parameter using title vector\n",
    "    query_result = client.query.get(schema,[\"title\",\"content\", \"_additional {certainty}\"]) \\\n",
    "    .with_near_vector(near_vector) \\\n",
    "    .with_limit(top_k) \\\n",
    "    .do()\n",
    "    \n",
    "    return query_result\n",
    "    # Print query results "
   ]
  },
  {
   "cell_type": "code",
   "execution_count": 42,
   "id": "15def653",
   "metadata": {},
   "outputs": [
    {
     "name": "stdout",
     "output_type": "stream",
     "text": [
      "1. Title: Early modern Europe Certainty: 0.9454971551895142\n",
      "2. Title: Museum of Modern Art Certainty: 0.9375567138195038\n",
      "3. Title: Western Europe Certainty: 0.9336977899074554\n",
      "4. Title: Renaissance art Certainty: 0.9321110248565674\n",
      "5. Title: Pop art Certainty: 0.9302356243133545\n",
      "6. Title: Art exhibition Certainty: 0.9281864166259766\n",
      "7. Title: History of Europe Certainty: 0.9278470575809479\n",
      "8. Title: Northern Europe Certainty: 0.9273118078708649\n",
      "9. Title: Concert of Europe Certainty: 0.9268475472927094\n",
      "10. Title: Hellenistic art Certainty: 0.9264660775661469\n",
      "11. Title: Piet Mondrian Certainty: 0.9235712587833405\n",
      "12. Title: Modernist literature Certainty: 0.9235587120056152\n",
      "13. Title: European Capital of Culture Certainty: 0.9228664338588715\n",
      "14. Title: Art film Certainty: 0.9217151403427124\n",
      "15. Title: Europa Certainty: 0.9216068089008331\n",
      "16. Title: Art rock Certainty: 0.9212885200977325\n",
      "17. Title: Central Europe Certainty: 0.9212862849235535\n",
      "18. Title: Art Certainty: 0.9208334386348724\n",
      "19. Title: European Certainty: 0.92069211602211\n",
      "20. Title: Byzantine art Certainty: 0.920437216758728\n"
     ]
    }
   ],
   "source": [
    "query_result = query_weaviate('modern art in Europe','Article')\n",
    "counter = 0\n",
    "for article in query_result['data']['Get']['Article']:\n",
    "    counter += 1\n",
    "    print(f\"{counter}. Title: {article['title']} Certainty: {article['_additional']['certainty']}\")"
   ]
  },
  {
   "cell_type": "code",
   "execution_count": 44,
   "id": "93c4a696",
   "metadata": {},
   "outputs": [
    {
     "name": "stdout",
     "output_type": "stream",
     "text": [
      "1. Title: Historic Scotland Certainty: 0.9464837908744812\n",
      "2. Title: First War of Scottish Independence Certainty: 0.9461104869842529\n",
      "3. Title: Battle of Bannockburn Certainty: 0.9455609619617462\n",
      "4. Title: Wars of Scottish Independence Certainty: 0.944368839263916\n",
      "5. Title: Second War of Scottish Independence Certainty: 0.9395008385181427\n",
      "6. Title: List of Scottish monarchs Certainty: 0.9366503059864044\n",
      "7. Title: Kingdom of Scotland Certainty: 0.935274213552475\n",
      "8. Title: Scottish Borders Certainty: 0.9317866265773773\n",
      "9. Title: List of rivers of Scotland Certainty: 0.9296278059482574\n",
      "10. Title: Braveheart Certainty: 0.9294214248657227\n",
      "11. Title: John of Scotland Certainty: 0.9292325675487518\n",
      "12. Title: Duncan II of Scotland Certainty: 0.9291643798351288\n",
      "13. Title: Bannockburn Certainty: 0.9291241466999054\n",
      "14. Title: The Scotsman Certainty: 0.9280610680580139\n",
      "15. Title: Flag of Scotland Certainty: 0.9270428121089935\n",
      "16. Title: Banff and Macduff Certainty: 0.9267247915267944\n",
      "17. Title: Guardians of Scotland Certainty: 0.9260919094085693\n",
      "18. Title: Scottish Parliament Certainty: 0.9252097904682159\n",
      "19. Title: Holyrood Abbey Certainty: 0.925055593252182\n",
      "20. Title: Scottish Certainty: 0.9249534606933594\n"
     ]
    }
   ],
   "source": [
    "query_result = query_weaviate('Famous battles in Scottish history','Article')\n",
    "counter = 0\n",
    "for article in query_result['data']['Get']['Article']:\n",
    "    counter += 1\n",
    "    print(f\"{counter}. Title: {article['title']} Certainty: {article['_additional']['certainty']}\")"
   ]
  },
  {
   "cell_type": "markdown",
   "id": "5bb78a37",
   "metadata": {},
   "source": [
    "Thanks for following along, you're now equipped to set up your own vector databases and use embeddings to do all kinds of cool things - enjoy! For more complex use cases please continue to work through the cookbook examples here:\n",
    "\n",
    "TODO: Make other cool things to link to"
   ]
  }
 ],
 "metadata": {
  "kernelspec": {
   "display_name": "Python 3 (ipykernel)",
   "language": "python",
   "name": "python3"
  },
  "language_info": {
   "codemirror_mode": {
    "name": "ipython",
    "version": 3
   },
   "file_extension": ".py",
   "mimetype": "text/x-python",
   "name": "python",
   "nbconvert_exporter": "python",
   "pygments_lexer": "ipython3",
   "version": "3.10.9"
  }
 },
 "nbformat": 4,
 "nbformat_minor": 5
}
